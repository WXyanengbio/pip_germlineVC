{
 "cells": [
  {
   "cell_type": "code",
   "execution_count": 11,
   "metadata": {},
   "outputs": [
    {
     "name": "stdout",
     "output_type": "stream",
     "text": [
      "samtools view -bS /home/dell/Works/Projects/18071001_S1_L001/filtered/18071001_S1_L001_filtered.sam > /home/dell/Works/Projects/18071001_S1_L001/clustered/18071001_S1_L001_filtered.bam\n",
      "<os._wrap_close object at 0x7f0ce416dfd0>\n",
      "samtools sort /home/dell/Works/Projects/18071001_S1_L001/clustered/18071001_S1_L001_filtered.bam > /home/dell/Works/Projects/18071001_S1_L001/clustered/18071001_S1_L001_filtered_sorted.bam\n",
      "samtools index /home/dell/Works/Projects/18071001_S1_L001/clustered/18071001_S1_L001_filtered_sorted.bam\n",
      "samtools view -h /home/dell/Works/Projects/18071001_S1_L001/clustered/18071001_S1_L001_filtered.bam > /home/dell/Works/Projects/18071001_S1_L001/clustered/18071001_S1_L001_umis.sam\n",
      "b''\n"
     ]
    }
   ],
   "source": [
    "import os\n",
    "import sys\n",
    "import shlex\n",
    "import subprocess\n",
    "\n",
    "samtools_dir='samtools'\n",
    "umitools_dir=' /home/dell/.local/bin/umi_tools'\n",
    "filtered_sam='/home/dell/Works/Projects/18071001_S1_L001/filtered/18071001_S1_L001_filtered.sam'\n",
    "filtered_bam='/home/dell/Works/Projects/18071001_S1_L001/clustered/18071001_S1_L001_filtered.bam'\n",
    "sorted_bam='/home/dell/Works/Projects/18071001_S1_L001/clustered/18071001_S1_L001_filtered_sorted.bam'\n",
    "umitool_stats='/home/dell/Works/Projects/18071001_S1_L001/clustered/18071001_S1_L001_deduplicated'\n",
    "umis_sam='/home/dell/Works/Projects/18071001_S1_L001/clustered/18071001_S1_L001_umis.sam'\n",
    "edit_dist=2\n",
    "\n",
    "#put the info output to the log\n",
    "def stdout_err(command):\n",
    "    command_pope = shlex.split(command)\n",
    "    print(command)\n",
    "    child = subprocess.Popen(command_pope, stdout=subprocess.PIPE,stderr=subprocess.PIPE,universal_newlines=False)\n",
    "    stdout, stderr = child.communicate()\n",
    "    child.wait()\n",
    "    return stdout, stderr\n",
    "\n",
    "def umitool(samtools_dir, umitools_dir, filtered_sam ,filtered_bam , sorted_bam, umitool_stats , umis_sam, edit_dist):\n",
    "    command1 = samtools_dir + ' view -bS ' + filtered_sam + ' > ' + filtered_bam\n",
    "    print(command1)\n",
    "    #logger_umi_process.info('Samtools transform sam to bam.')\n",
    "    #(status, output) = stdout_err(command1)\n",
    "    #os.system(command1)\n",
    "    output = os.popen(command1)\n",
    "    #print(status)\n",
    "    print(output)\n",
    "    #logger_umi_process.info(output)\n",
    "    command2 = samtools_dir + ' sort ' + filtered_bam + ' > ' + sorted_bam\n",
    "    #logger_umi_process.info('Samtools sort bam.')\n",
    "    stdout, stderr = stdout_err(command2)\n",
    "    #logger_umi_process.info(stdout)\n",
    "    #logger_umi_errors.info(stderr)\n",
    "    command3 = samtools_dir + ' index ' + sorted_bam\n",
    "    #logger_umi_process.info('Samtools build index of bam.')\n",
    "    stdout, stderr = stdout_err(command3)\n",
    "    #logger_umi_process.info(stdout)\n",
    "    #logger_umi_errors.info(stderr)\n",
    "    command4 = 'python3.6 {0}  dedup -I {1} --output-stats={2} -S {3} --edit-distance-threshold {4} --paired True'.format(umitools_dir,\n",
    "                sorted_bam,umitool_stats,filtered_bam, edit_dist)\n",
    "    #logger_umi_process.info('UMIs-tools cluster bam.')\n",
    "    (status, output) = subprocess.getstatusoutput(command4)\n",
    "    #logger_umi_process.info(output)\n",
    "    command5 = samtools_dir + ' view -h ' + filtered_bam + ' > ' + umis_sam\n",
    "    #logger_umi_process.info('Samtools transform umis_bam to umis_sam.')\n",
    "    stdout, stderr = stdout_err(command5)\n",
    "    print(stdout)\n",
    "    #logger_umi_process.info(stdout)\n",
    "   # logger_umi_errors.info(stderr)\n",
    "    \n",
    "\n",
    "\n",
    "umitool(samtools_dir, umitools_dir, filtered_sam ,filtered_bam , sorted_bam, umitool_stats , umis_sam, edit_dist)"
   ]
  },
  {
   "cell_type": "code",
   "execution_count": null,
   "metadata": {},
   "outputs": [],
   "source": []
  },
  {
   "cell_type": "code",
   "execution_count": null,
   "metadata": {},
   "outputs": [],
   "source": []
  }
 ],
 "metadata": {
  "kernelspec": {
   "display_name": "Python 3",
   "language": "python",
   "name": "python3"
  },
  "language_info": {
   "codemirror_mode": {
    "name": "ipython",
    "version": 3
   },
   "file_extension": ".py",
   "mimetype": "text/x-python",
   "name": "python",
   "nbconvert_exporter": "python",
   "pygments_lexer": "ipython3",
   "version": "3.6.6"
  }
 },
 "nbformat": 4,
 "nbformat_minor": 2
}
